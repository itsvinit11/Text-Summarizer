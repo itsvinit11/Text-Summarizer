{
  "nbformat": 4,
  "nbformat_minor": 0,
  "metadata": {
    "colab": {
      "provenance": [],
      "mount_file_id": "1VYP0qOb7ssCzO_0QJg8wl_T0lu5g3_Hm",
      "authorship_tag": "ABX9TyO/2hQoUDIv9ONtnC9tPmhu",
      "include_colab_link": true
    },
    "kernelspec": {
      "name": "python3",
      "display_name": "Python 3"
    },
    "language_info": {
      "name": "python"
    }
  },
  "cells": [
    {
      "cell_type": "markdown",
      "metadata": {
        "id": "view-in-github",
        "colab_type": "text"
      },
      "source": [
        "<a href=\"https://colab.research.google.com/github/itsvinit11/NLP-pipeline-for-news-scraped-from-various-sources/blob/main/Copy_of_News_Summarizer.ipynb\" target=\"_parent\"><img src=\"https://colab.research.google.com/assets/colab-badge.svg\" alt=\"Open In Colab\"/></a>"
      ]
    },
    {
      "cell_type": "code",
      "source": [
        "import requests\n",
        "import re\n",
        "import nltk\n",
        "from nltk.corpus import stopwords\n",
        "from sklearn.feature_extraction.text import TfidfVectorizer\n",
        "from sklearn.metrics.pairwise import cosine_similarity\n",
        "import nltk\n",
        "from bs4 import BeautifulSoup\n",
        "\n",
        "nltk.download('punkt')\n",
        "\n",
        "# Define the Wikipedia URL of the article you want to summarize\n",
        "wiki_url = 'https://en.wikipedia.org/wiki/Jyoti_Bansal'\n",
        "\n",
        "# Make a request to the URL and parse the HTML content\n",
        "response = requests.get(wiki_url)\n",
        "soup = BeautifulSoup(response.content, 'html.parser')\n",
        "\n",
        "# Extract the main content of the article\n",
        "article_text = ''\n",
        "for paragraph in soup.find_all('p'):\n",
        "    article_text += paragraph.get_text()\n",
        "\n",
        "# Define a function to preprocess the text\n",
        "def preprocess_text(text):\n",
        "    text = re.sub(r'\\[[0-9]+\\]', '', text)  # Remove citations\n",
        "    text = re.sub(r'[^\\w\\s]', '', text)\n",
        "    text = text.lower()\n",
        "    stopwords_list = stopwords.words('english')\n",
        "    # Retain some meaningful stopwords\n",
        "    meaningful_stopwords = ['not', 'no', 'nor']\n",
        "    stopwords_list = [word for word in stopwords_list if word not in meaningful_stopwords]\n",
        "    text_tokens = nltk.word_tokenize(text)\n",
        "    text = ' '.join([word for word in text_tokens if not word in stopwords_list])\n",
        "    return text\n",
        "\n",
        "cleaned_text = preprocess_text(article_text)\n",
        "\n",
        "# Tokenize the cleaned article text into sentences using NLTK\n",
        "sentences = nltk.sent_tokenize(cleaned_text)\n",
        "\n",
        "# Calculate the TF-IDF scores of each sentence using TfidfVectorizer from sklearn\n",
        "vectorizer = TfidfVectorizer(use_idf=True)\n",
        "tf_idf_scores = vectorizer.fit_transform(sentences)\n",
        "\n",
        "# Calculate cosine similarity between sentences\n",
        "cosine_matrix = cosine_similarity(tf_idf_scores)\n",
        "\n",
        "# Rank sentences based on cosine similarity\n",
        "sentence_scores = []\n",
        "for i, sentence in enumerate(sentences):\n",
        "    score = sum(cosine_matrix[i])\n",
        "    sentence_scores.append((sentence, score))\n",
        "\n",
        "sentence_scores.sort(key=lambda x: x[1], reverse=True)\n",
        "\n",
        "# Select the top N sentences with the highest scores to create a summary of the Wikipedia article\n",
        "N = 2  # You can adjust this value to get more or fewer sentences in the summary\n",
        "top_sentences = [sentence[0] for sentence in sentence_scores[:N]]\n",
        "\n",
        "# Print the top N sentences\n",
        "print('\\n'.join(top_sentences))\n"
      ],
      "metadata": {
        "colab": {
          "base_uri": "https://localhost:8080/"
        },
        "id": "gLyU-ZTo--iq",
        "outputId": "1d2bcf8c-048d-4c78-c90c-965d46712696"
      },
      "execution_count": null,
      "outputs": [
        {
          "output_type": "stream",
          "name": "stderr",
          "text": [
            "[nltk_data] Downloading package punkt to /root/nltk_data...\n",
            "[nltk_data]   Package punkt is already up-to-date!\n"
          ]
        },
        {
          "output_type": "stream",
          "name": "stdout",
          "text": [
            "jyoti bansal indianamerican technology entrepreneur founded first company appdynamics april 2008 went serve ceo 2015 appdynamics purchased cisco systems 37 billion day appdynamics due initial public offering later went start two technology companies harnessio traceableai currently serves ceo bansal born india grew small city state rajasthan helped father run small farm equipment retail business bansal attended indian institute technologydelhi studied computer science 1995 1999 2000 bansal moved united states work technology industry silicon valley bansal worked number silicon valley startups 2000 2007 restrictions work visa prevented creating startup company us receiving green card april 2008 bansal founded first startup appdynamics application performance management company company provides tools monitoring diagnosing troubleshooting performance slowdowns glitches software code bansal led company ceo first eight years founding september 2015 time appdynamics grown 900 employees september 2015 bansal became chairman chief strategist handing daytoday operations company new ceo went serve companys chairman sale cisco systems june 2016 bansal awarded ernst young entrepreneur year award northern california december 2016 appdynamics submitted prospectus securities exchange commission initial public offering ipo stock company due open public trade january 2017 deal reached days sale company cisco systems final offered price sale totaled 37 billion october 2017 bansal launched big bansal innovation group labs startup studio startup testing ground test ideas technology problems year launched harness first startup big labs july 2020 bansal launched traceable second startup big labs bansal currently serves ceo harness traceable october 2017 bansal launched harness platform software developers automate simplify software delivery processes july 2020 bansal launched traceable cybersecurity company provides solutions protecting software code sophisticated cyberattacks may 2018 bansal announced venture capitalist john vrionis launching new seed fund called unusual ventures 500 million capital management bansal intends focus mentoring early stage startups partnering nonprofits offering frequent masterclasses budding entrepreneurs\n"
          ]
        }
      ]
    }
  ]
}